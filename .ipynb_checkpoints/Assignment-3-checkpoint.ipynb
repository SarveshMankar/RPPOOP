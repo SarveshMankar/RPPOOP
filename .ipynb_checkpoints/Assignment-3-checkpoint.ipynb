{
 "cells": [
  {
   "cell_type": "code",
   "execution_count": 4,
   "id": "d7abbda1-bb56-47c9-9c0c-05616d04c9a9",
   "metadata": {},
   "outputs": [
    {
     "name": "stdout",
     "output_type": "stream",
     "text": [
      "Assignment 3: Banking\n"
     ]
    }
   ],
   "source": [
    "print(\"Assignment 3: Banking\")"
   ]
  },
  {
   "cell_type": "code",
   "execution_count": 5,
   "id": "f0be8126-2815-4011-8f7a-bf1dcabce2ce",
   "metadata": {},
   "outputs": [],
   "source": [
    "class BankAccount:\n",
    "    def __init__(self, name, acc_no, acc_type, balance):\n",
    "        self.name = name\n",
    "        self.acc_no = acc_no\n",
    "        self.acc_type = acc_type\n",
    "        self.balance = balance\n",
    "\n",
    "    def deposit(self, amount):\n",
    "        self.balance += amount\n",
    "\n",
    "    def withdraw(self, amount):\n",
    "        if self.balance < amount:\n",
    "            print(\"Insufficient balance\")\n",
    "        else:\n",
    "            self.balance -= amount\n",
    "\n",
    "    def display(self):\n",
    "        print(\"Name: \", self.name)\n",
    "        print(\"Account number: \", self.acc_no)\n",
    "        print(\"Account type: \", self.acc_type)\n",
    "        print(\"Balance: \", self.balance)"
   ]
  },
  {
   "cell_type": "code",
   "execution_count": 6,
   "id": "a821ef10-3c9f-4af7-8d58-d57509165da1",
   "metadata": {},
   "outputs": [],
   "source": [
    "def main():\n",
    "    name = input(\"Enter name: \")\n",
    "    acc_no = input(\"Enter account number: \")\n",
    "    acc_type = input(\"Enter account type: \")\n",
    "    balance = int(input(\"Enter balance: \"))\n",
    "    b = BankAccount(name, acc_no, acc_type, balance)\n",
    "    while True:\n",
    "        print(\"1. Deposit\")\n",
    "        print(\"2. Withdraw\")\n",
    "        print(\"3. Display\")\n",
    "        print(\"4. Exit\")\n",
    "        choice = int(input(\"Enter your choice: \"))\n",
    "        if choice == 1:\n",
    "            amount = int(input(\"Enter amount to deposit: \"))\n",
    "            b.deposit(amount)\n",
    "        elif choice == 2:\n",
    "            amount = int(input(\"Enter amount to withdraw: \"))\n",
    "            b.withdraw(amount)\n",
    "        elif choice == 3:\n",
    "            b.display()\n",
    "        elif choice == 4:\n",
    "            break\n",
    "        else:\n",
    "            print(\"Invalid choice\")"
   ]
  },
  {
   "cell_type": "code",
   "execution_count": 7,
   "id": "8a269875-a564-4eb1-9bbd-83d704fcac05",
   "metadata": {},
   "outputs": [
    {
     "name": "stdout",
     "output_type": "stream",
     "text": [
      "Enter name: 12354\n",
      "Enter account number: 1654\n",
      "Enter account type: saving\n",
      "Enter balance: 44\n",
      "1. Deposit\n",
      "2. Withdraw\n",
      "3. Display\n",
      "4. Exit\n",
      "Enter your choice: 1\n",
      "Enter amount to deposit: 531\n",
      "1. Deposit\n",
      "2. Withdraw\n",
      "3. Display\n",
      "4. Exit\n",
      "Enter your choice: 5\n",
      "Invalid choice\n",
      "1. Deposit\n",
      "2. Withdraw\n",
      "3. Display\n",
      "4. Exit\n",
      "Enter your choice: 151\n",
      "Invalid choice\n",
      "1. Deposit\n",
      "2. Withdraw\n",
      "3. Display\n",
      "4. Exit\n",
      "Enter your choice: 2\n",
      "Enter amount to withdraw: 4646\n",
      "Insufficient balance\n",
      "1. Deposit\n",
      "2. Withdraw\n",
      "3. Display\n",
      "4. Exit\n",
      "Enter your choice: 5\n",
      "Invalid choice\n",
      "1. Deposit\n",
      "2. Withdraw\n",
      "3. Display\n",
      "4. Exit\n",
      "Enter your choice: 4\n"
     ]
    }
   ],
   "source": [
    "if __name__ == \"__main__\":\n",
    "    main()"
   ]
  },
  {
   "cell_type": "code",
   "execution_count": null,
   "id": "0a2f3361-c36c-4e81-bf2a-8222769b0e2c",
   "metadata": {},
   "outputs": [],
   "source": []
  },
  {
   "cell_type": "code",
   "execution_count": null,
   "id": "f2e18ee3-167a-47b2-8aa1-fd628b5b28d0",
   "metadata": {},
   "outputs": [],
   "source": []
  },
  {
   "cell_type": "code",
   "execution_count": null,
   "id": "e2062bff-8acb-4ab3-a4f8-363b955fecba",
   "metadata": {},
   "outputs": [],
   "source": []
  },
  {
   "cell_type": "code",
   "execution_count": null,
   "id": "a297628b-fc49-487a-a5af-cbd98e5607de",
   "metadata": {},
   "outputs": [],
   "source": []
  },
  {
   "cell_type": "code",
   "execution_count": null,
   "id": "0417fad9-3a67-4779-b627-15118debed8c",
   "metadata": {},
   "outputs": [],
   "source": []
  },
  {
   "cell_type": "code",
   "execution_count": null,
   "id": "4e7b3e3b-eee9-42ee-a4ed-2562ee8bed05",
   "metadata": {},
   "outputs": [],
   "source": []
  },
  {
   "cell_type": "code",
   "execution_count": null,
   "id": "8e8af846-d8c1-43e7-983c-c5aba9b16927",
   "metadata": {},
   "outputs": [],
   "source": []
  },
  {
   "cell_type": "code",
   "execution_count": null,
   "id": "0a8e61ff-331c-4aad-9057-d2109fedef4c",
   "metadata": {},
   "outputs": [],
   "source": []
  }
 ],
 "metadata": {
  "kernelspec": {
   "display_name": "Python 3 (ipykernel)",
   "language": "python",
   "name": "python3"
  },
  "language_info": {
   "codemirror_mode": {
    "name": "ipython",
    "version": 3
   },
   "file_extension": ".py",
   "mimetype": "text/x-python",
   "name": "python",
   "nbconvert_exporter": "python",
   "pygments_lexer": "ipython3",
   "version": "3.9.13"
  }
 },
 "nbformat": 4,
 "nbformat_minor": 5
}
