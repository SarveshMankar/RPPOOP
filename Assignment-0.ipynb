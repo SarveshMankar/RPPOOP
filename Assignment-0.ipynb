{
 "cells": [
  {
   "cell_type": "code",
   "execution_count": 1,
   "id": "bd3dd00f-84f7-4ba9-acc3-17d1b3e0bc1b",
   "metadata": {},
   "outputs": [],
   "source": [
    "class polygon:\n",
    "    def __init__(self, name):\n",
    "        self.name = name\n",
    "    \n",
    "    def area(self):\n",
    "        pass\n",
    "    \n",
    "    def perimeter(self):\n",
    "        pass\n",
    "\n",
    "    def dimensions(self):\n",
    "        pass"
   ]
  },
  {
   "cell_type": "code",
   "execution_count": null,
   "id": "6dc97105-ea48-4227-8070-4b852eb03341",
   "metadata": {},
   "outputs": [],
   "source": [
    "class rectangle(polygon):\n",
    "    def __init__(self, name, length, breadth):\n",
    "        super().__init__(name)\n",
    "        self.length = length\n",
    "        self.breadth = breadth\n",
    "    \n",
    "    def area(self):\n",
    "        return self.length * self.breadth\n",
    "    \n",
    "    def perimeter(self):\n",
    "        return 2 * (self.length + self.breadth)\n",
    "    \n",
    "    def dimensions(self, length, breadth):\n",
    "        print(\"Length: \", self.length)\n",
    "        print(\"Breadth: \", self.breadth)"
   ]
  }
 ],
 "metadata": {
  "kernelspec": {
   "display_name": "Python 3 (ipykernel)",
   "language": "python",
   "name": "python3"
  },
  "language_info": {
   "codemirror_mode": {
    "name": "ipython",
    "version": 3
   },
   "file_extension": ".py",
   "mimetype": "text/x-python",
   "name": "python",
   "nbconvert_exporter": "python",
   "pygments_lexer": "ipython3",
   "version": "3.9.13"
  }
 },
 "nbformat": 4,
 "nbformat_minor": 5
}
