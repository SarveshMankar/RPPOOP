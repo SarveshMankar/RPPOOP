{
 "cells": [
  {
   "cell_type": "code",
   "execution_count": 1,
   "id": "b2975efa-a77a-4182-a57b-4aab94302543",
   "metadata": {},
   "outputs": [
    {
     "name": "stdout",
     "output_type": "stream",
     "text": [
      "Examples of Inheritance\n"
     ]
    }
   ],
   "source": [
    "print(\"Examples of Inheritance\")"
   ]
  },
  {
   "cell_type": "code",
   "execution_count": 3,
   "id": "2840c0bb-90d7-4f8d-8eb5-62910c1603bb",
   "metadata": {},
   "outputs": [],
   "source": [
    "#Single Inheritance\n",
    "class parent:\n",
    "    def __init__(self):\n",
    "        print(\"Calling parent constructor\")\n",
    "\n",
    "    def parentMethod(self):\n",
    "        print(\"Calling parent method\")\n",
    "        \n",
    "\n",
    "class child1(parent):\n",
    "    def __init__(self):\n",
    "        print(\"Calling child1 constructor\")\n",
    "\n",
    "    def childMethod(self):\n",
    "        print(\"Calling child1 method\")\n",
    "\n",
    "    def child1ParentMethod(self):\n",
    "        print(\"Calling child1 method\")"
   ]
  },
  {
   "cell_type": "code",
   "execution_count": 5,
   "id": "f0a984b3-984a-4451-8197-4beff39c2f7b",
   "metadata": {},
   "outputs": [],
   "source": [
    "#Heirarchical Inheritance\n",
    "class child2(parent):\n",
    "    def __init__(self):\n",
    "        print(\"Calling child2 constructor\")\n",
    "\n",
    "    def childMethod(self):\n",
    "        print(\"Calling child2 method\")"
   ]
  },
  {
   "cell_type": "code",
   "execution_count": 6,
   "id": "6a278dc4-1361-4f5b-8a1a-d486cbc8e73f",
   "metadata": {},
   "outputs": [],
   "source": [
    "#Multiple Inheritance\n",
    "class parent2:\n",
    "    def __init__(self):\n",
    "        print(\"Calling parent2 constructor\")\n",
    "\n",
    "    def parentMethod(self):\n",
    "        print(\"Calling parent2 method\")\n",
    "\n",
    "class child3(parent, parent2):\n",
    "    def __init__(self):\n",
    "        print(\"Calling child3 constructor\")\n",
    "\n",
    "    def childMethod(self):\n",
    "        print(\"Calling child3 method\")"
   ]
  },
  {
   "cell_type": "code",
   "execution_count": 7,
   "id": "e7ce7955-02cb-45d5-bd00-14c45f828744",
   "metadata": {},
   "outputs": [],
   "source": [
    "#Multilevel Inheritance\n",
    "class child4(child1):\n",
    "    def __init__(self):\n",
    "        print(\"Calling child4 constructor\")\n",
    "\n",
    "    def childMethod(self):\n",
    "        print(\"Calling child4 method\")"
   ]
  },
  {
   "cell_type": "code",
   "execution_count": 8,
   "id": "e9a2e53c-85e0-4fc8-9335-5769125fdd03",
   "metadata": {},
   "outputs": [
    {
     "name": "stdout",
     "output_type": "stream",
     "text": [
      "Single Inheritance\n",
      "Child 1:\n",
      "Calling child1 constructor\n",
      "Calling child1 method\n",
      "Calling parent method\n",
      "\n",
      "Heirarchical Inheritance\n",
      "Child 2:\n",
      "Calling child2 constructor\n",
      "Calling child2 method\n",
      "Calling parent method\n",
      "\n",
      "Multiple Inheritance\n",
      "Child 3:\n",
      "Calling child3 constructor\n",
      "Calling child3 method\n",
      "Calling parent method\n",
      "\n",
      "Multilevel Inheritance\n",
      "Child 4:\n",
      "Calling child4 constructor\n",
      "Calling child4 method\n",
      "Calling child1 method\n",
      "Calling parent method\n"
     ]
    }
   ],
   "source": [
    "print(\"Single Inheritance\")\n",
    "print(\"Child 1:\")\n",
    "c1 = child1()\n",
    "c1.childMethod()\n",
    "c1.parentMethod()\n",
    "\n",
    "print(\"\")\n",
    "\n",
    "print(\"Heirarchical Inheritance\")\n",
    "print(\"Child 2:\")\n",
    "c2 = child2()\n",
    "c2.childMethod()\n",
    "c2.parentMethod()\n",
    "\n",
    "print(\"\")\n",
    "\n",
    "print(\"Multiple Inheritance\")\n",
    "print(\"Child 3:\")\n",
    "c3 = child3()\n",
    "c3.childMethod()\n",
    "c3.parentMethod()\n",
    "\n",
    "print(\"\")\n",
    "\n",
    "print(\"Multilevel Inheritance\")\n",
    "print(\"Child 4:\")\n",
    "c4 = child4()\n",
    "c4.childMethod()\n",
    "c4.child1ParentMethod()\n",
    "c4.parentMethod()\n"
   ]
  },
  {
   "cell_type": "code",
   "execution_count": null,
   "id": "b90eb65b-1a6f-4735-b7f0-5e3e63ef52ba",
   "metadata": {},
   "outputs": [],
   "source": []
  }
 ],
 "metadata": {
  "kernelspec": {
   "display_name": "Python 3 (ipykernel)",
   "language": "python",
   "name": "python3"
  },
  "language_info": {
   "codemirror_mode": {
    "name": "ipython",
    "version": 3
   },
   "file_extension": ".py",
   "mimetype": "text/x-python",
   "name": "python",
   "nbconvert_exporter": "python",
   "pygments_lexer": "ipython3",
   "version": "3.9.13"
  }
 },
 "nbformat": 4,
 "nbformat_minor": 5
}
