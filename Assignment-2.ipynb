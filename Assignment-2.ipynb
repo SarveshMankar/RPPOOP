{
 "cells": [
  {
   "cell_type": "code",
   "execution_count": 2,
   "id": "d7abbda1-bb56-47c9-9c0c-05616d04c9a9",
   "metadata": {},
   "outputs": [
    {
     "name": "stdout",
     "output_type": "stream",
     "text": [
      "Assignment 2: Polymorphism\n"
     ]
    }
   ],
   "source": [
    "print(\"Assignment 2: Polymorphism\")"
   ]
  },
  {
   "cell_type": "code",
   "execution_count": 17,
   "id": "f0be8126-2815-4011-8f7a-bf1dcabce2ce",
   "metadata": {},
   "outputs": [],
   "source": [
    "class polygon:\n",
    "    def __init__(self, name):\n",
    "        self.name = name\n",
    "    \n",
    "    def area(self):\n",
    "        pass\n",
    "    \n",
    "    def perimeter(self):\n",
    "        pass\n",
    "\n",
    "    def dimensions(self):\n",
    "        pass"
   ]
  },
  {
   "cell_type": "code",
   "execution_count": 18,
   "id": "a821ef10-3c9f-4af7-8d58-d57509165da1",
   "metadata": {},
   "outputs": [],
   "source": [
    "class circle(polygon):\n",
    "    def __init__(self, name, radius):\n",
    "        super().__init__(name)\n",
    "        self.radius = radius\n",
    "    \n",
    "    def area(self):\n",
    "        return 3.14 * self.radius * self.radius\n",
    "    \n",
    "    \"\"\"def area(self, radius):\n",
    "        return 3.14 * radius * radius\"\"\"\n",
    "    \n",
    "    def perimeter(self):\n",
    "        return 2 * 3.14 * self.radius\n",
    "    \n",
    "    def dimensions(self, radius):\n",
    "        print(\"Radius: \", self.radius)\n",
    "        "
   ]
  },
  {
   "cell_type": "code",
   "execution_count": 19,
   "id": "8a269875-a564-4eb1-9bbd-83d704fcac05",
   "metadata": {},
   "outputs": [],
   "source": [
    "class rectangle(polygon):\n",
    "    def __init__(self, name, length, breadth):\n",
    "        super().__init__(name)\n",
    "        self.length = length\n",
    "        self.breadth = breadth\n",
    "    \n",
    "    def area(self):\n",
    "        return self.length * self.breadth\n",
    "    \n",
    "    def perimeter(self):\n",
    "        return 2 * (self.length + self.breadth)\n",
    "    \n",
    "    def dimensions(self, length, breadth):\n",
    "        print(\"Length: \", self.length)\n",
    "        print(\"Breadth: \", self.breadth)\n",
    "    "
   ]
  },
  {
   "cell_type": "code",
   "execution_count": 20,
   "id": "0a2f3361-c36c-4e81-bf2a-8222769b0e2c",
   "metadata": {},
   "outputs": [],
   "source": [
    "class square(polygon):\n",
    "    def __init__(self, name, side):\n",
    "        super().__init__(name)\n",
    "        self.side = side\n",
    "\n",
    "    def area(self):\n",
    "        return self.side * self.side\n",
    "    \n",
    "    def perimeter(self):\n",
    "        return 4 * self.side\n",
    "    \n",
    "    def dimensions(self, side):\n",
    "        print(\"Side: \", self.side)"
   ]
  },
  {
   "cell_type": "code",
   "execution_count": 22,
   "id": "f2e18ee3-167a-47b2-8aa1-fd628b5b28d0",
   "metadata": {},
   "outputs": [],
   "source": [
    "class pentagon(polygon):\n",
    "    def __init__(self, name, side):\n",
    "        super().__init__(name)\n",
    "        self.side = side\n",
    "\n",
    "    def area(self):\n",
    "        return (5/2) * (self.side * self.side)\n",
    "    \n",
    "    def perimeter(self):\n",
    "        return 5 * self.side\n",
    "    \n",
    "    def dimensions(self, side):\n",
    "        print(\"Side: \", self.side)"
   ]
  },
  {
   "cell_type": "code",
   "execution_count": 23,
   "id": "e2062bff-8acb-4ab3-a4f8-363b955fecba",
   "metadata": {},
   "outputs": [
    {
     "name": "stdout",
     "output_type": "stream",
     "text": [
      "Circle:  My 1st Circle\n",
      "Radius:  5.34543543\n",
      "Area 89.72135499997977\n",
      "Perimeter 33.569334500400004\n"
     ]
    }
   ],
   "source": [
    "circle1 = circle(\"My 1st Circle\", 5.34543543)\n",
    "print(\"Circle: \", circle1.name)\n",
    "circle1.dimensions(5.34543543)\n",
    "print(\"Area\",circle1.area())\n",
    "print(\"Perimeter\",circle1.perimeter())"
   ]
  },
  {
   "cell_type": "code",
   "execution_count": 24,
   "id": "a297628b-fc49-487a-a5af-cbd98e5607de",
   "metadata": {},
   "outputs": [
    {
     "name": "stdout",
     "output_type": "stream",
     "text": [
      "Rectangle:  My 1st Rectangle\n",
      "Length:  5\n",
      "Breadth:  10\n",
      "Area 50\n",
      "Perimeter 30\n"
     ]
    }
   ],
   "source": [
    "rectangle1 = rectangle(\"My 1st Rectangle\", 5, 10)\n",
    "print(\"Rectangle: \", rectangle1.name)\n",
    "rectangle1.dimensions(5, 10)\n",
    "print(\"Area\",rectangle1.area())\n",
    "print(\"Perimeter\",rectangle1.perimeter())"
   ]
  },
  {
   "cell_type": "code",
   "execution_count": 25,
   "id": "0417fad9-3a67-4779-b627-15118debed8c",
   "metadata": {},
   "outputs": [
    {
     "name": "stdout",
     "output_type": "stream",
     "text": [
      "Square:  My 1st Square\n",
      "Side:  5\n",
      "Area 25\n",
      "Perimeter 20\n"
     ]
    }
   ],
   "source": [
    "square1 = square(\"My 1st Square\", 5)\n",
    "print(\"Square: \", square1.name)\n",
    "square1.dimensions(5)\n",
    "print(\"Area\",square1.area())\n",
    "print(\"Perimeter\",square1.perimeter())"
   ]
  },
  {
   "cell_type": "code",
   "execution_count": 26,
   "id": "4e7b3e3b-eee9-42ee-a4ed-2562ee8bed05",
   "metadata": {},
   "outputs": [
    {
     "name": "stdout",
     "output_type": "stream",
     "text": [
      "Pentagon:  My 1st Pentagon\n",
      "Side:  5\n",
      "Area 62.5\n",
      "Perimeter 25\n"
     ]
    }
   ],
   "source": [
    "pentagon1 = pentagon(\"My 1st Pentagon\", 5)\n",
    "print(\"Pentagon: \", pentagon1.name)\n",
    "pentagon1.dimensions(5)\n",
    "print(\"Area\",pentagon1.area())\n",
    "print(\"Perimeter\",pentagon1.perimeter())\n"
   ]
  },
  {
   "cell_type": "code",
   "execution_count": null,
   "id": "8e8af846-d8c1-43e7-983c-c5aba9b16927",
   "metadata": {},
   "outputs": [],
   "source": []
  },
  {
   "cell_type": "code",
   "execution_count": null,
   "id": "0a8e61ff-331c-4aad-9057-d2109fedef4c",
   "metadata": {},
   "outputs": [],
   "source": []
  }
 ],
 "metadata": {
  "kernelspec": {
   "display_name": "Python 3 (ipykernel)",
   "language": "python",
   "name": "python3"
  },
  "language_info": {
   "codemirror_mode": {
    "name": "ipython",
    "version": 3
   },
   "file_extension": ".py",
   "mimetype": "text/x-python",
   "name": "python",
   "nbconvert_exporter": "python",
   "pygments_lexer": "ipython3",
   "version": "3.9.13"
  }
 },
 "nbformat": 4,
 "nbformat_minor": 5
}
