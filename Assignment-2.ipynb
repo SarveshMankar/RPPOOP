{
 "cells": [
  {
   "cell_type": "code",
   "execution_count": 1,
   "id": "b2975efa-a77a-4182-a57b-4aab94302543",
   "metadata": {},
   "outputs": [
    {
     "name": "stdout",
     "output_type": "stream",
     "text": [
      "Examples of Inheritance\n"
     ]
    }
   ],
   "source": [
    "print(\"Examples of Inheritance\")"
   ]
  },
  {
   "cell_type": "code",
   "execution_count": 2,
   "id": "2840c0bb-90d7-4f8d-8eb5-62910c1603bb",
   "metadata": {},
   "outputs": [],
   "source": [
    "#Single Inheritance\n",
    "class parent:\n",
    "    def __init__(self):\n",
    "        print(\"Calling parent constructor\")\n",
    "\n",
    "    def parentMethod(self):\n",
    "        myStr=\"Calling parent method\"\n",
    "        print(myStr)\n",
    "        "
   ]
  },
  {
   "cell_type": "code",
   "execution_count": 7,
   "id": "b90eb65b-1a6f-4735-b7f0-5e3e63ef52ba",
   "metadata": {},
   "outputs": [],
   "source": [
    "class child5(parent):\n",
    "    # Demonstration of Method Overriding\n",
    "\n",
    "    def __init__(self):\n",
    "        print(\"Calling child5 constructor\")\n",
    "\n",
    "    def parentMethod(self):\n",
    "         str=\"I'm Parent of child5\"\n",
    "         print(str)\n",
    "\n",
    "    def funcOverloadingDemo(self, arg1, arg2=None):\n",
    "        if arg2 is None:\n",
    "            print(\"arg2 is not passed\")\n",
    "        else:\n",
    "            print(\"arg2 is passed\")\n",
    "    \n",
    "    def funcOverloadingDemo(self, arg1, arg2, arg3):\n",
    "        print(\"arg3 is passed\")"
   ]
  },
  {
   "cell_type": "code",
   "execution_count": null,
   "id": "5d1d4370",
   "metadata": {},
   "outputs": [
    {
     "ename": "",
     "evalue": "",
     "output_type": "error",
     "traceback": [
      "\u001b[1;31mRunning cells with 'c:\\Users\\manka\\AppData\\Local\\Programs\\Python\\Python310\\python.exe' requires the ipykernel package.\n",
      "\u001b[1;31mRun the following command to install 'ipykernel' into the Python environment. \n",
      "\u001b[1;31mCommand: 'c:/Users/manka/AppData/Local/Programs/Python/Python310/python.exe -m pip install ipykernel -U --user --force-reinstall'"
     ]
    }
   ],
   "source": [
    "parent = parent()\n",
    "parent.parentMethod()\n",
    "\n",
    "child5 = child5()\n",
    "child5.parentMethod()\n",
    "\n",
    "child5.funcOverloadingDemo(1,2)\n",
    "child5.funcOverloadingDemo(1,2,3)\n"
   ]
  },
  {
   "cell_type": "code",
   "execution_count": null,
   "id": "9dfc8e7d",
   "metadata": {},
   "outputs": [
    {
     "ename": "",
     "evalue": "",
     "output_type": "error",
     "traceback": [
      "\u001b[1;31mRunning cells with 'c:\\Users\\manka\\AppData\\Local\\Programs\\Python\\Python310\\python.exe' requires the ipykernel package.\n",
      "\u001b[1;31mRun the following command to install 'ipykernel' into the Python environment. \n",
      "\u001b[1;31mCommand: 'c:/Users/manka/AppData/Local/Programs/Python/Python310/python.exe -m pip install ipykernel -U --user --force-reinstall'"
     ]
    }
   ],
   "source": []
  }
 ],
 "metadata": {
  "kernelspec": {
   "display_name": "Python 3 (ipykernel)",
   "language": "python",
   "name": "python3"
  },
  "language_info": {
   "codemirror_mode": {
    "name": "ipython",
    "version": 3
   },
   "file_extension": ".py",
   "mimetype": "text/x-python",
   "name": "python",
   "nbconvert_exporter": "python",
   "pygments_lexer": "ipython3",
   "version": "3.9.13"
  }
 },
 "nbformat": 4,
 "nbformat_minor": 5
}
